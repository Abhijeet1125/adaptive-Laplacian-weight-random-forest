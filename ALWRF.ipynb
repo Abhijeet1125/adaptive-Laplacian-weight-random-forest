{
  "nbformat": 4,
  "nbformat_minor": 0,
  "metadata": {
    "colab": {
      "provenance": [],
      "mount_file_id": "1dF1EJDmFMIGAAykBWS9r-0LIS_ko_0hn",
      "authorship_tag": "ABX9TyOr/wrbGIN1MoT8L2oHWVrd",
      "include_colab_link": true
    },
    "kernelspec": {
      "name": "python3",
      "display_name": "Python 3"
    },
    "language_info": {
      "name": "python"
    }
  },
  "cells": [
    {
      "cell_type": "markdown",
      "metadata": {
        "id": "view-in-github",
        "colab_type": "text"
      },
      "source": [
        "<a href=\"https://colab.research.google.com/github/Abhijeet1125/adaptive-Laplacian-weight-random-forest/blob/main/ALWRF.ipynb\" target=\"_parent\"><img src=\"https://colab.research.google.com/assets/colab-badge.svg\" alt=\"Open In Colab\"/></a>"
      ]
    },
    {
      "cell_type": "code",
      "execution_count": 15,
      "metadata": {
        "id": "R8hkt-41KgDy"
      },
      "outputs": [],
      "source": [
        "import pandas as pd\n",
        "import numpy as np\n",
        "import math"
      ]
    },
    {
      "cell_type": "code",
      "source": [
        "heart_disease = pd.read_csv ( \"drive/MyDrive/collabSampleData/heart-disease.csv\")\n",
        "x = heart_disease.drop ( \"target\" , axis = 1 )\n",
        "y = heart_disease[\"target\"]\n",
        "np.random.seed ( 12)\n",
        "from sklearn.model_selection import train_test_split\n",
        "x_train , x_test , y_train , y_test = train_test_split(x , y , test_size = 0.2 )\n",
        "\n",
        "len(x_train)"
      ],
      "metadata": {
        "colab": {
          "base_uri": "https://localhost:8080/"
        },
        "id": "5moRUlo0MvBx",
        "outputId": "62d735ee-f7f6-4304-b140-5cef3f2d939a"
      },
      "execution_count": 16,
      "outputs": [
        {
          "output_type": "execute_result",
          "data": {
            "text/plain": [
              "242"
            ]
          },
          "metadata": {},
          "execution_count": 16
        }
      ]
    },
    {
      "cell_type": "markdown",
      "source": [],
      "metadata": {
        "id": "AudMfym5OA4R"
      }
    },
    {
      "cell_type": "markdown",
      "source": [
        "just inbuilt random forest"
      ],
      "metadata": {
        "id": "ZgaWX4d4NaFC"
      }
    },
    {
      "cell_type": "code",
      "source": [
        "np.random.seed(9)\n",
        "from sklearn.ensemble import RandomForestClassifier\n",
        "clf = RandomForestClassifier()\n",
        "\n",
        "clf .get_params();\n",
        "\n",
        "clf.fit ( x_train , y_train );\n",
        "\n",
        "clf.score (x_test , y_test )"
      ],
      "metadata": {
        "colab": {
          "base_uri": "https://localhost:8080/"
        },
        "id": "OHhjSwwcNXvV",
        "outputId": "acbde8ce-046d-49f7-9411-3def00071dae"
      },
      "execution_count": 17,
      "outputs": [
        {
          "output_type": "execute_result",
          "data": {
            "text/plain": [
              "0.7868852459016393"
            ]
          },
          "metadata": {},
          "execution_count": 17
        }
      ]
    },
    {
      "cell_type": "markdown",
      "source": [
        "-----------------------------%%%%%%%%%%%%%%%%%%%%%%%%%%%%%%%%%%%%%------------------------------------------------------"
      ],
      "metadata": {
        "id": "AJ4YXi5STzPx"
      }
    },
    {
      "cell_type": "markdown",
      "source": [
        "**CALCULATING THE COSINE SIMILARITY FOR ALL N * N CASES THEN CALCULATED TOP 5 NEIGHBOR AND FINALLY MAKING KNN MATRIX**"
      ],
      "metadata": {
        "id": "8G7ivBkKSU_G"
      }
    },
    {
      "cell_type": "code",
      "source": [
        "from sklearn.metrics.pairwise import cosine_similarity\n",
        "\n",
        "# Calculate the cosine similarity matrix\n",
        "cosine_sim_matrix = cosine_similarity(x_train, x_train )\n",
        "\n",
        "top5_row_indices = np.argsort(cosine_sim_matrix , axis=1)[:, -6:]\n",
        "\n",
        "n = len(x_train)\n",
        "knn_matrix = np.zeros((n, n))\n",
        "for i in range(n):\n",
        "    for j in top5_row_indices [i]:\n",
        "        knn_matrix[i][j] = cosine_sim_matrix[i][j]\n",
        "        knn_matrix[j][i] = cosine_sim_matrix[j][i]\n",
        "\n",
        "for i in range(n):\n",
        "    knn_matrix[i][i] = 0 ;\n"
      ],
      "metadata": {
        "id": "EnkXo4aKQ2EN"
      },
      "execution_count": 18,
      "outputs": []
    },
    {
      "cell_type": "markdown",
      "source": [
        "**CALCULATING LAPLACIAN GRAPH AND D MATRIX**"
      ],
      "metadata": {
        "id": "0xx-Gcp4StSk"
      }
    },
    {
      "cell_type": "code",
      "source": [
        "D = np.zeros((n, n))\n",
        "\n",
        "for i in range(n):\n",
        "    row_sum = np.sum(knn_matrix[i])\n",
        "    D[i, i] = row_sum\n",
        "\n",
        "L = D - knn_matrix\n",
        "\n",
        "D.shape , D , L"
      ],
      "metadata": {
        "id": "Y7kZQS-8Tiz_",
        "colab": {
          "base_uri": "https://localhost:8080/"
        },
        "outputId": "c85ecf35-b235-4972-be3b-3bd3759df31e"
      },
      "execution_count": 19,
      "outputs": [
        {
          "output_type": "execute_result",
          "data": {
            "text/plain": [
              "((242, 242),\n",
              " array([[4.99607559, 0.        , 0.        , ..., 0.        , 0.        ,\n",
              "         0.        ],\n",
              "        [0.        , 6.99566095, 0.        , ..., 0.        , 0.        ,\n",
              "         0.        ],\n",
              "        [0.        , 0.        , 5.98933413, ..., 0.        , 0.        ,\n",
              "         0.        ],\n",
              "        ...,\n",
              "        [0.        , 0.        , 0.        , ..., 5.99437761, 0.        ,\n",
              "         0.        ],\n",
              "        [0.        , 0.        , 0.        , ..., 0.        , 4.99141678,\n",
              "         0.        ],\n",
              "        [0.        , 0.        , 0.        , ..., 0.        , 0.        ,\n",
              "         6.99628374]]),\n",
              " array([[ 4.99607559, -0.9989127 ,  0.        , ...,  0.        ,\n",
              "          0.        ,  0.        ],\n",
              "        [-0.9989127 ,  6.99566095,  0.        , ...,  0.        ,\n",
              "          0.        ,  0.        ],\n",
              "        [ 0.        ,  0.        ,  5.98933413, ...,  0.        ,\n",
              "          0.        ,  0.        ],\n",
              "        ...,\n",
              "        [ 0.        ,  0.        ,  0.        , ...,  5.99437761,\n",
              "          0.        ,  0.        ],\n",
              "        [ 0.        ,  0.        ,  0.        , ...,  0.        ,\n",
              "          4.99141678,  0.        ],\n",
              "        [ 0.        ,  0.        ,  0.        , ...,  0.        ,\n",
              "          0.        ,  6.99628374]]))"
            ]
          },
          "metadata": {},
          "execution_count": 19
        }
      ]
    },
    {
      "cell_type": "markdown",
      "source": [
        "------------------------------------------------------------------"
      ],
      "metadata": {
        "id": "giWBFshAkopk"
      }
    },
    {
      "cell_type": "markdown",
      "source": [
        "**CALCULATING LAPLACIAN SCORE**"
      ],
      "metadata": {
        "id": "DAbNxfR1S6G1"
      }
    },
    {
      "cell_type": "code",
      "source": [
        "n_samples, n_features = x_train.shape\n",
        "\n",
        "x_train_np = x_train.to_numpy()\n",
        "\n",
        "def laplacian_score(D, L, f):\n",
        "    fi = f /  np.sum(f)\n",
        "\n",
        "\n",
        "    si = np.dot(fi.T, np.dot(L, fi)) / np.dot(fi.T, np.dot(D, fi))\n",
        "\n",
        "    return si\n",
        "\n",
        "scores = np.zeros(n_features)\n",
        "for i in range(n_features ):\n",
        "    sliced_matrix = x_train_np[:, i:i+1]\n",
        "    si = laplacian_score(D, L, sliced_matrix)\n",
        "    scores[i] = si\n",
        "\n",
        "# Print the Laplacian score for each feature\n",
        "scores"
      ],
      "metadata": {
        "id": "sfm1xtwsxAoO",
        "colab": {
          "base_uri": "https://localhost:8080/"
        },
        "outputId": "b2368953-aec6-49e4-b15c-b3234814ca69"
      },
      "execution_count": 20,
      "outputs": [
        {
          "output_type": "execute_result",
          "data": {
            "text/plain": [
              "array([0.00897279, 0.29907196, 0.51008413, 0.0081261 , 0.00729152,\n",
              "       0.81752487, 0.48656646, 0.00665927, 0.6202678 , 0.47142231,\n",
              "       0.11901314, 0.64850664, 0.06369102])"
            ]
          },
          "metadata": {},
          "execution_count": 20
        }
      ]
    },
    {
      "cell_type": "code",
      "source": [
        "fea_wei = np.array ( scores )\n",
        "\n",
        "# please take care of this line below\n",
        "\n",
        "fea_wei  = 1 - fea_wei\n",
        "\n",
        "\n",
        "fea_wei = fea_wei / np.sum ( fea_wei)\n",
        "\n",
        "df = pd.DataFrame ( fea_wei)\n",
        "df"
      ],
      "metadata": {
        "colab": {
          "base_uri": "https://localhost:8080/",
          "height": 457
        },
        "id": "WySEqz5TscVh",
        "outputId": "2aa6a46d-8a64-446c-f30c-83573c89a36b"
      },
      "execution_count": 21,
      "outputs": [
        {
          "output_type": "execute_result",
          "data": {
            "text/plain": [
              "           0\n",
              "0   0.110942\n",
              "1   0.078467\n",
              "2   0.054845\n",
              "3   0.111037\n",
              "4   0.111131\n",
              "5   0.020428\n",
              "6   0.057477\n",
              "7   0.111201\n",
              "8   0.042510\n",
              "9   0.059173\n",
              "10  0.098624\n",
              "11  0.039349\n",
              "12  0.104817"
            ],
            "text/html": [
              "\n",
              "  <div id=\"df-1932d5bd-e040-48e5-a8ec-f43925c0f83f\" class=\"colab-df-container\">\n",
              "    <div>\n",
              "<style scoped>\n",
              "    .dataframe tbody tr th:only-of-type {\n",
              "        vertical-align: middle;\n",
              "    }\n",
              "\n",
              "    .dataframe tbody tr th {\n",
              "        vertical-align: top;\n",
              "    }\n",
              "\n",
              "    .dataframe thead th {\n",
              "        text-align: right;\n",
              "    }\n",
              "</style>\n",
              "<table border=\"1\" class=\"dataframe\">\n",
              "  <thead>\n",
              "    <tr style=\"text-align: right;\">\n",
              "      <th></th>\n",
              "      <th>0</th>\n",
              "    </tr>\n",
              "  </thead>\n",
              "  <tbody>\n",
              "    <tr>\n",
              "      <th>0</th>\n",
              "      <td>0.110942</td>\n",
              "    </tr>\n",
              "    <tr>\n",
              "      <th>1</th>\n",
              "      <td>0.078467</td>\n",
              "    </tr>\n",
              "    <tr>\n",
              "      <th>2</th>\n",
              "      <td>0.054845</td>\n",
              "    </tr>\n",
              "    <tr>\n",
              "      <th>3</th>\n",
              "      <td>0.111037</td>\n",
              "    </tr>\n",
              "    <tr>\n",
              "      <th>4</th>\n",
              "      <td>0.111131</td>\n",
              "    </tr>\n",
              "    <tr>\n",
              "      <th>5</th>\n",
              "      <td>0.020428</td>\n",
              "    </tr>\n",
              "    <tr>\n",
              "      <th>6</th>\n",
              "      <td>0.057477</td>\n",
              "    </tr>\n",
              "    <tr>\n",
              "      <th>7</th>\n",
              "      <td>0.111201</td>\n",
              "    </tr>\n",
              "    <tr>\n",
              "      <th>8</th>\n",
              "      <td>0.042510</td>\n",
              "    </tr>\n",
              "    <tr>\n",
              "      <th>9</th>\n",
              "      <td>0.059173</td>\n",
              "    </tr>\n",
              "    <tr>\n",
              "      <th>10</th>\n",
              "      <td>0.098624</td>\n",
              "    </tr>\n",
              "    <tr>\n",
              "      <th>11</th>\n",
              "      <td>0.039349</td>\n",
              "    </tr>\n",
              "    <tr>\n",
              "      <th>12</th>\n",
              "      <td>0.104817</td>\n",
              "    </tr>\n",
              "  </tbody>\n",
              "</table>\n",
              "</div>\n",
              "    <div class=\"colab-df-buttons\">\n",
              "\n",
              "  <div class=\"colab-df-container\">\n",
              "    <button class=\"colab-df-convert\" onclick=\"convertToInteractive('df-1932d5bd-e040-48e5-a8ec-f43925c0f83f')\"\n",
              "            title=\"Convert this dataframe to an interactive table.\"\n",
              "            style=\"display:none;\">\n",
              "\n",
              "  <svg xmlns=\"http://www.w3.org/2000/svg\" height=\"24px\" viewBox=\"0 -960 960 960\">\n",
              "    <path d=\"M120-120v-720h720v720H120Zm60-500h600v-160H180v160Zm220 220h160v-160H400v160Zm0 220h160v-160H400v160ZM180-400h160v-160H180v160Zm440 0h160v-160H620v160ZM180-180h160v-160H180v160Zm440 0h160v-160H620v160Z\"/>\n",
              "  </svg>\n",
              "    </button>\n",
              "\n",
              "  <style>\n",
              "    .colab-df-container {\n",
              "      display:flex;\n",
              "      gap: 12px;\n",
              "    }\n",
              "\n",
              "    .colab-df-convert {\n",
              "      background-color: #E8F0FE;\n",
              "      border: none;\n",
              "      border-radius: 50%;\n",
              "      cursor: pointer;\n",
              "      display: none;\n",
              "      fill: #1967D2;\n",
              "      height: 32px;\n",
              "      padding: 0 0 0 0;\n",
              "      width: 32px;\n",
              "    }\n",
              "\n",
              "    .colab-df-convert:hover {\n",
              "      background-color: #E2EBFA;\n",
              "      box-shadow: 0px 1px 2px rgba(60, 64, 67, 0.3), 0px 1px 3px 1px rgba(60, 64, 67, 0.15);\n",
              "      fill: #174EA6;\n",
              "    }\n",
              "\n",
              "    .colab-df-buttons div {\n",
              "      margin-bottom: 4px;\n",
              "    }\n",
              "\n",
              "    [theme=dark] .colab-df-convert {\n",
              "      background-color: #3B4455;\n",
              "      fill: #D2E3FC;\n",
              "    }\n",
              "\n",
              "    [theme=dark] .colab-df-convert:hover {\n",
              "      background-color: #434B5C;\n",
              "      box-shadow: 0px 1px 3px 1px rgba(0, 0, 0, 0.15);\n",
              "      filter: drop-shadow(0px 1px 2px rgba(0, 0, 0, 0.3));\n",
              "      fill: #FFFFFF;\n",
              "    }\n",
              "  </style>\n",
              "\n",
              "    <script>\n",
              "      const buttonEl =\n",
              "        document.querySelector('#df-1932d5bd-e040-48e5-a8ec-f43925c0f83f button.colab-df-convert');\n",
              "      buttonEl.style.display =\n",
              "        google.colab.kernel.accessAllowed ? 'block' : 'none';\n",
              "\n",
              "      async function convertToInteractive(key) {\n",
              "        const element = document.querySelector('#df-1932d5bd-e040-48e5-a8ec-f43925c0f83f');\n",
              "        const dataTable =\n",
              "          await google.colab.kernel.invokeFunction('convertToInteractive',\n",
              "                                                    [key], {});\n",
              "        if (!dataTable) return;\n",
              "\n",
              "        const docLinkHtml = 'Like what you see? Visit the ' +\n",
              "          '<a target=\"_blank\" href=https://colab.research.google.com/notebooks/data_table.ipynb>data table notebook</a>'\n",
              "          + ' to learn more about interactive tables.';\n",
              "        element.innerHTML = '';\n",
              "        dataTable['output_type'] = 'display_data';\n",
              "        await google.colab.output.renderOutput(dataTable, element);\n",
              "        const docLink = document.createElement('div');\n",
              "        docLink.innerHTML = docLinkHtml;\n",
              "        element.appendChild(docLink);\n",
              "      }\n",
              "    </script>\n",
              "  </div>\n",
              "\n",
              "\n",
              "<div id=\"df-4cac28b8-e954-4771-979d-d6cddefb07d5\">\n",
              "  <button class=\"colab-df-quickchart\" onclick=\"quickchart('df-4cac28b8-e954-4771-979d-d6cddefb07d5')\"\n",
              "            title=\"Suggest charts\"\n",
              "            style=\"display:none;\">\n",
              "\n",
              "<svg xmlns=\"http://www.w3.org/2000/svg\" height=\"24px\"viewBox=\"0 0 24 24\"\n",
              "     width=\"24px\">\n",
              "    <g>\n",
              "        <path d=\"M19 3H5c-1.1 0-2 .9-2 2v14c0 1.1.9 2 2 2h14c1.1 0 2-.9 2-2V5c0-1.1-.9-2-2-2zM9 17H7v-7h2v7zm4 0h-2V7h2v10zm4 0h-2v-4h2v4z\"/>\n",
              "    </g>\n",
              "</svg>\n",
              "  </button>\n",
              "\n",
              "<style>\n",
              "  .colab-df-quickchart {\n",
              "      --bg-color: #E8F0FE;\n",
              "      --fill-color: #1967D2;\n",
              "      --hover-bg-color: #E2EBFA;\n",
              "      --hover-fill-color: #174EA6;\n",
              "      --disabled-fill-color: #AAA;\n",
              "      --disabled-bg-color: #DDD;\n",
              "  }\n",
              "\n",
              "  [theme=dark] .colab-df-quickchart {\n",
              "      --bg-color: #3B4455;\n",
              "      --fill-color: #D2E3FC;\n",
              "      --hover-bg-color: #434B5C;\n",
              "      --hover-fill-color: #FFFFFF;\n",
              "      --disabled-bg-color: #3B4455;\n",
              "      --disabled-fill-color: #666;\n",
              "  }\n",
              "\n",
              "  .colab-df-quickchart {\n",
              "    background-color: var(--bg-color);\n",
              "    border: none;\n",
              "    border-radius: 50%;\n",
              "    cursor: pointer;\n",
              "    display: none;\n",
              "    fill: var(--fill-color);\n",
              "    height: 32px;\n",
              "    padding: 0;\n",
              "    width: 32px;\n",
              "  }\n",
              "\n",
              "  .colab-df-quickchart:hover {\n",
              "    background-color: var(--hover-bg-color);\n",
              "    box-shadow: 0 1px 2px rgba(60, 64, 67, 0.3), 0 1px 3px 1px rgba(60, 64, 67, 0.15);\n",
              "    fill: var(--button-hover-fill-color);\n",
              "  }\n",
              "\n",
              "  .colab-df-quickchart-complete:disabled,\n",
              "  .colab-df-quickchart-complete:disabled:hover {\n",
              "    background-color: var(--disabled-bg-color);\n",
              "    fill: var(--disabled-fill-color);\n",
              "    box-shadow: none;\n",
              "  }\n",
              "\n",
              "  .colab-df-spinner {\n",
              "    border: 2px solid var(--fill-color);\n",
              "    border-color: transparent;\n",
              "    border-bottom-color: var(--fill-color);\n",
              "    animation:\n",
              "      spin 1s steps(1) infinite;\n",
              "  }\n",
              "\n",
              "  @keyframes spin {\n",
              "    0% {\n",
              "      border-color: transparent;\n",
              "      border-bottom-color: var(--fill-color);\n",
              "      border-left-color: var(--fill-color);\n",
              "    }\n",
              "    20% {\n",
              "      border-color: transparent;\n",
              "      border-left-color: var(--fill-color);\n",
              "      border-top-color: var(--fill-color);\n",
              "    }\n",
              "    30% {\n",
              "      border-color: transparent;\n",
              "      border-left-color: var(--fill-color);\n",
              "      border-top-color: var(--fill-color);\n",
              "      border-right-color: var(--fill-color);\n",
              "    }\n",
              "    40% {\n",
              "      border-color: transparent;\n",
              "      border-right-color: var(--fill-color);\n",
              "      border-top-color: var(--fill-color);\n",
              "    }\n",
              "    60% {\n",
              "      border-color: transparent;\n",
              "      border-right-color: var(--fill-color);\n",
              "    }\n",
              "    80% {\n",
              "      border-color: transparent;\n",
              "      border-right-color: var(--fill-color);\n",
              "      border-bottom-color: var(--fill-color);\n",
              "    }\n",
              "    90% {\n",
              "      border-color: transparent;\n",
              "      border-bottom-color: var(--fill-color);\n",
              "    }\n",
              "  }\n",
              "</style>\n",
              "\n",
              "  <script>\n",
              "    async function quickchart(key) {\n",
              "      const quickchartButtonEl =\n",
              "        document.querySelector('#' + key + ' button');\n",
              "      quickchartButtonEl.disabled = true;  // To prevent multiple clicks.\n",
              "      quickchartButtonEl.classList.add('colab-df-spinner');\n",
              "      try {\n",
              "        const charts = await google.colab.kernel.invokeFunction(\n",
              "            'suggestCharts', [key], {});\n",
              "      } catch (error) {\n",
              "        console.error('Error during call to suggestCharts:', error);\n",
              "      }\n",
              "      quickchartButtonEl.classList.remove('colab-df-spinner');\n",
              "      quickchartButtonEl.classList.add('colab-df-quickchart-complete');\n",
              "    }\n",
              "    (() => {\n",
              "      let quickchartButtonEl =\n",
              "        document.querySelector('#df-4cac28b8-e954-4771-979d-d6cddefb07d5 button');\n",
              "      quickchartButtonEl.style.display =\n",
              "        google.colab.kernel.accessAllowed ? 'block' : 'none';\n",
              "    })();\n",
              "  </script>\n",
              "</div>\n",
              "    </div>\n",
              "  </div>\n"
            ]
          },
          "metadata": {},
          "execution_count": 21
        }
      ]
    },
    {
      "cell_type": "markdown",
      "source": [
        "**below implementation doesnot uses any thing , it just generate 100 decision tree with random selected features**"
      ],
      "metadata": {
        "id": "0_Ks-f3vQHuG"
      }
    },
    {
      "cell_type": "code",
      "source": [
        "\n",
        "from sklearn.ensemble import RandomForestClassifier\n",
        "num_trees = 100\n",
        "\n",
        "\n",
        "predictions = []\n",
        "\n",
        "select = x_train.shape[1]\n",
        "select = math.sqrt (select)\n",
        "select = int ( select )\n",
        "\n",
        "\n",
        "for i in range(num_trees):\n",
        "    np.random.seed ( i )\n",
        "    selected_features = np.random.choice(x_train.shape[1] ,  size= select )\n",
        "    subsampled_data = x_train.iloc[:, selected_features]\n",
        "    subsampled_test = x_test.iloc[:, selected_features]\n",
        "\n",
        "    tree = RandomForestClassifier(n_estimators=1, max_depth=None)\n",
        "    tree.fit(subsampled_data, y_train )\n",
        "\n",
        "    tree_predictions = tree.predict(subsampled_test)\n",
        "    predictions.append(tree_predictions)\n"
      ],
      "metadata": {
        "id": "v4hMo4B_3f5y"
      },
      "execution_count": 22,
      "outputs": []
    },
    {
      "cell_type": "code",
      "source": [
        "final_predictions = np.mean(predictions, axis=0 )\n",
        "\n",
        "\n",
        "final_predictions = np.where(final_predictions  < 0.5, 0, 1)\n",
        "\n",
        "\n",
        "np.mean ( final_predictions == y_test )\n"
      ],
      "metadata": {
        "colab": {
          "base_uri": "https://localhost:8080/"
        },
        "id": "iYhJTLXx7JOf",
        "outputId": "687539ce-3773-4830-9fbd-2a12bc1ce26f"
      },
      "execution_count": 23,
      "outputs": [
        {
          "output_type": "execute_result",
          "data": {
            "text/plain": [
              "0.7868852459016393"
            ]
          },
          "metadata": {},
          "execution_count": 23
        }
      ]
    },
    {
      "cell_type": "markdown",
      "source": [
        "**below implementation doesnot uses any thing , it generate 100 decision tree using *laplacian weight* for selecting features**"
      ],
      "metadata": {
        "id": "wHE7zoU2Q9yN"
      }
    },
    {
      "cell_type": "code",
      "source": [
        "\n",
        "from sklearn.ensemble import RandomForestClassifier\n",
        "num_trees = 100\n",
        "\n",
        "predictions = []\n",
        "\n",
        "select = x_train.shape[1]\n",
        "select = math.sqrt (select)\n",
        "select = int ( select )\n",
        "\n",
        "\n",
        "for i in range(num_trees):\n",
        "    np.random.seed ( i )\n",
        "    selected_features = np.random.choice(x_train.shape[1] , p =fea_wei ,  size= select )\n",
        "    subsampled_data = x_train.iloc[:, selected_features]\n",
        "    subsampled_test = x_test.iloc[:, selected_features]\n",
        "\n",
        "    tree = RandomForestClassifier(n_estimators=1, max_depth=None)\n",
        "    tree.fit(subsampled_data, y_train )\n",
        "\n",
        "    tree_predictions = tree.predict(subsampled_test)\n",
        "    predictions.append(tree_predictions)\n"
      ],
      "metadata": {
        "id": "LPcY8FJifshe"
      },
      "execution_count": 24,
      "outputs": []
    },
    {
      "cell_type": "code",
      "source": [
        "final_predictions = np.mean(predictions, axis=0 )\n",
        "\n",
        "\n",
        "final_predictions = np.where(final_predictions  < 0.5, 0, 1)\n",
        "\n",
        "np.mean ( final_predictions == y_test )\n"
      ],
      "metadata": {
        "colab": {
          "base_uri": "https://localhost:8080/"
        },
        "id": "_COWrpPLOvd5",
        "outputId": "b1d3186f-fb05-4fdd-f604-e65e61b1e393"
      },
      "execution_count": 25,
      "outputs": [
        {
          "output_type": "execute_result",
          "data": {
            "text/plain": [
              "0.8032786885245902"
            ]
          },
          "metadata": {},
          "execution_count": 25
        }
      ]
    },
    {
      "cell_type": "markdown",
      "source": [
        "**yeah! NOT MUCH BUT AROUND 2 PERCENT OF INCREASE IS FOUND**\n",
        "\n",
        "*AS THERE IS INCREASE IN ACCURACY WE CAN SAY THAT ATLEAST LAPLACIAN SCORE IS CALCULATED CORRECTLY*"
      ],
      "metadata": {
        "id": "gexnZRf-RIEg"
      }
    },
    {
      "cell_type": "code",
      "source": [
        "\n",
        "# just a way to generate a noise with a max of 10 percent change in value\n",
        "\n",
        "da = np.random.choice ( 100 , 5 )\n",
        "\n",
        "\n",
        "noise = np.random.rand(5 )\n",
        "\n",
        "hk = da + 0.1 * noise * da\n",
        "\n",
        "da , hk , noise"
      ],
      "metadata": {
        "id": "2f4pgw3KU_5J",
        "colab": {
          "base_uri": "https://localhost:8080/"
        },
        "outputId": "b1e56ccf-11ac-4790-ec15-013870a08f2e"
      },
      "execution_count": 26,
      "outputs": [
        {
          "output_type": "execute_result",
          "data": {
            "text/plain": [
              "(array([68, 69, 52,  1, 23]),\n",
              " array([70.02383299, 69.32220047, 57.15126248,  1.00068257, 24.77052396]),\n",
              " array([0.2976225 , 0.04669572, 0.9906274 , 0.00682573, 0.76979303]))"
            ]
          },
          "metadata": {},
          "execution_count": 26
        }
      ]
    },
    {
      "cell_type": "markdown",
      "source": [
        "**calculating feature importance ,**"
      ],
      "metadata": {
        "id": "a0s3rPmHi9nt"
      }
    },
    {
      "cell_type": "code",
      "source": [
        "from sklearn.ensemble import RandomForestClassifier\n",
        "select = x_train.shape[1]\n",
        "select = math.sqrt (select)\n",
        "select = int ( select )\n",
        "\n",
        "trees = 100\n",
        "\n",
        "np.random.seed ( 75 )\n",
        "x_train_inbox , x_test_outbox , y_train_inbox , y_test_outbox = train_test_split(x_train , y_train , test_size = 0.2 )\n",
        "\n",
        "oneans=[]\n",
        "noiseoob=[]\n",
        "fea_imp=[]\n",
        "\n",
        "\n",
        "def random_forest_with_laplacian(x_train_pass, x_test_pass, y_train_pass, y_test_pass):\n",
        "\n",
        "  predictions = []\n",
        "  for i in range(num_trees):\n",
        "    np.random.seed ( i )\n",
        "    selected_features = np.random.choice(x_train_pass.shape[1], p=fea_wei, size=select)\n",
        "\n",
        "    subsampled_data = x_train_pass.iloc[:, selected_features]\n",
        "    subsampled_test = x_test_pass.iloc[:, selected_features]\n",
        "\n",
        "\n",
        "    tree = RandomForestClassifier(n_estimators=1, max_depth=None)\n",
        "    tree.fit(subsampled_data, y_train_pass )\n",
        "\n",
        "    tree_predictions = tree.predict(subsampled_test)\n",
        "    predictions.append(tree_predictions)\n",
        "\n",
        "\n",
        "\n",
        "\n",
        "\n",
        "  final_predictions = np.mean(predictions, axis=0 )\n",
        "  final_predictions = np.where(final_predictions  < 0.5, 0, 1)\n",
        "  return np.mean ( final_predictions == y_test_pass  )\n",
        "\n",
        "\n",
        "\n",
        "\n",
        "\n",
        "oneans = random_forest_with_laplacian ( x_train_inbox , x_test_outbox , y_train_inbox , y_test_outbox  )\n",
        "\n",
        "x_features = x_train_inbox.shape[1]\n",
        "\n",
        "x_train_inbox\n",
        "\n",
        "print ( x_train_inbox )\n",
        "\n",
        "for i in range ( x_features ):\n",
        "\n",
        "\n",
        "  newdata = x_train_inbox.copy()\n",
        "  noise = np.random.rand(x_train_inbox.shape[0])\n",
        "\n",
        "  value  = x_train_inbox.iloc[:,i].to_numpy()\n",
        "\n",
        "  value = value + value * noise * 0.1\n",
        "\n",
        "\n",
        "  #  please think about it\n",
        "\n",
        "  # if i != 9 :\n",
        "  #   value = value.astype ( int )\n",
        "\n",
        "  newdata.iloc[:, i] = value\n",
        "\n",
        "  print ( i , np.sum ( newdata.iloc[:,i] != x_train_inbox.iloc [: , i ]))\n",
        "\n",
        "  noiseoob .append (random_forest_with_laplacian ( newdata , x_test_outbox , y_train_inbox , y_test_outbox  ) )\n",
        "\n",
        "\n",
        "\n",
        "sum= np.sum(fea_imp)\n",
        "fea_imp = abs ( oneans - noiseoob ) + 0.005\n",
        "fea_imp = fea_imp / np.sum ( fea_imp)\n",
        "\n",
        "oneans , noiseoob , fea_imp\n"
      ],
      "metadata": {
        "colab": {
          "base_uri": "https://localhost:8080/"
        },
        "id": "-lqj9_3iFxLm",
        "outputId": "d7aaf3ec-30b1-472f-c5f5-7be964e4c692"
      },
      "execution_count": 27,
      "outputs": [
        {
          "output_type": "stream",
          "name": "stdout",
          "text": [
            "     age  sex  cp  trestbps  chol  fbs  restecg  thalach  exang  oldpeak  \\\n",
            "206   59    1   0       110   239    0        0      142      1      1.2   \n",
            "51    66    1   0       120   302    0        0      151      0      0.4   \n",
            "178   43    1   0       120   177    0        0      120      1      2.5   \n",
            "276   58    1   0       146   218    0        1      105      0      2.0   \n",
            "24    40    1   3       140   199    0        1      178      1      1.4   \n",
            "..   ...  ...  ..       ...   ...  ...      ...      ...    ...      ...   \n",
            "58    34    1   3       118   182    0        0      174      0      0.0   \n",
            "163   38    1   2       138   175    0        1      173      0      0.0   \n",
            "246   56    0   0       134   409    0        0      150      1      1.9   \n",
            "247   66    1   1       160   246    0        1      120      1      0.0   \n",
            "230   47    1   2       108   243    0        1      152      0      0.0   \n",
            "\n",
            "     slope  ca  thal  \n",
            "206      1   1     3  \n",
            "51       1   0     2  \n",
            "178      1   0     3  \n",
            "276      1   1     3  \n",
            "24       2   0     3  \n",
            "..     ...  ..   ...  \n",
            "58       2   0     2  \n",
            "163      2   4     2  \n",
            "246      1   2     3  \n",
            "247      1   3     1  \n",
            "230      2   0     2  \n",
            "\n",
            "[193 rows x 13 columns]\n",
            "0 193\n",
            "1 130\n",
            "2 101\n",
            "3 193\n",
            "4 193\n",
            "5 26\n",
            "6 99\n",
            "7 193\n",
            "8 62\n",
            "9 123\n",
            "10 184\n",
            "11 84\n",
            "12 192\n"
          ]
        },
        {
          "output_type": "execute_result",
          "data": {
            "text/plain": [
              "(0.8367346938775511,\n",
              " [0.7959183673469388,\n",
              "  0.8163265306122449,\n",
              "  0.8367346938775511,\n",
              "  0.7959183673469388,\n",
              "  0.8571428571428571,\n",
              "  0.8367346938775511,\n",
              "  0.8367346938775511,\n",
              "  0.8367346938775511,\n",
              "  0.8367346938775511,\n",
              "  0.8571428571428571,\n",
              "  0.8163265306122449,\n",
              "  0.8367346938775511,\n",
              "  0.8163265306122449],\n",
              " array([0.18424292, 0.10217481, 0.02010669, 0.18424292, 0.10217481,\n",
              "        0.02010669, 0.02010669, 0.02010669, 0.02010669, 0.10217481,\n",
              "        0.10217481, 0.02010669, 0.10217481]))"
            ]
          },
          "metadata": {},
          "execution_count": 27
        }
      ]
    },
    {
      "cell_type": "markdown",
      "source": [
        "**final check , using both laplacian and feature importances**"
      ],
      "metadata": {
        "id": "A8TbDn2ynODa"
      }
    },
    {
      "cell_type": "code",
      "source": [
        "from sklearn.ensemble import RandomForestClassifier\n",
        "num_trees = 100\n",
        "\n",
        "predictions = []\n",
        "\n",
        "select = x_train.shape[1]\n",
        "select = math.sqrt (select)\n",
        "select = int ( select )\n",
        "\n",
        "\n",
        "for i in range(num_trees):\n",
        "    np.random.seed ( i )\n",
        "\n",
        "    new_wei = []\n",
        "    for i  in range ( x_train.shape[1]):\n",
        "      new_wei = (1 -i/num_trees) * fea_wei + (i / num_trees ) * fea_imp\n",
        "\n",
        "\n",
        "    new_wei = new_wei / np.sum ( new_wei )\n",
        "    selected_features = np.random.choice(x_train.shape[1] , p =  new_wei ,  size= select )\n",
        "    subsampled_data = x_train.iloc[:, selected_features]\n",
        "    subsampled_test = x_test.iloc[:, selected_features]\n",
        "\n",
        "    tree = RandomForestClassifier(n_estimators=1, max_depth=None)\n",
        "    tree.fit(subsampled_data, y_train )\n",
        "\n",
        "    tree_predictions = tree.predict(subsampled_test)\n",
        "    predictions.append(tree_predictions)\n",
        "\n",
        "\n",
        "\n",
        "final_predictions = np.mean(predictions, axis=0 )\n",
        "\n",
        "final_predictions = np.where(final_predictions  < 0.5, 0, 1)\n",
        "\n",
        "np.mean ( final_predictions == y_test )\n"
      ],
      "metadata": {
        "colab": {
          "base_uri": "https://localhost:8080/"
        },
        "id": "RCdf7rhnR_Z0",
        "outputId": "67e2ca74-7bfe-413e-e34d-d795ab2efaec"
      },
      "execution_count": 28,
      "outputs": [
        {
          "output_type": "execute_result",
          "data": {
            "text/plain": [
              "0.819672131147541"
            ]
          },
          "metadata": {},
          "execution_count": 28
        }
      ]
    },
    {
      "cell_type": "code",
      "source": [],
      "metadata": {
        "id": "He72hpKQWewL"
      },
      "execution_count": 28,
      "outputs": []
    }
  ]
}